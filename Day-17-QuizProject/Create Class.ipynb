{
 "cells": [
  {
   "cell_type": "markdown",
   "metadata": {},
   "source": [
    "# Day 17"
   ]
  },
  {
   "cell_type": "markdown",
   "metadata": {},
   "source": [
    "###### Creating your own Class"
   ]
  },
  {
   "cell_type": "markdown",
   "metadata": {},
   "source": [
    "Whenever you create a `class` or `function`, and want to keep it empty.  \n",
    "Use `pass` to over-ride.\n",
    "```python\n",
    "def myFunction():\n",
    "    pass\n",
    "class MyClass:\n",
    "    pass\n",
    "```"
   ]
  },
  {
   "cell_type": "markdown",
   "metadata": {},
   "source": [
    "Class are named in Pascal Case ie first letter of every word is capitalized.\n",
    "```python\n",
    "class ClassName:\n",
    "```\n",
    "Tip:  \n",
    "camelCase  \n",
    "PascalCase  \n",
    "snake_case  "
   ]
  },
  {
   "cell_type": "markdown",
   "metadata": {},
   "source": [
    "We can assign as many attributes for any object\n",
    "```python\n",
    "object1 = ClassName\n",
    "object1.id = 1\n",
    "object1.name = 'value'\n",
    "```\n",
    "`Constructor` defines what should happen when a object is constructed - initializing  \n",
    "It is created using init function.  \n",
    "self -> Actual object being created or initialized  \n",
    "In addition we can pass as many parameters we want in init\n",
    "``` python\n",
    "class Car:\n",
    "    def __init__(self,seats):\n",
    "        # Initialize attributes\n",
    "        self.seats = seats\n",
    "        # Default value, which can be changed for respective objects\n",
    "        self.type = 'car\n",
    "my_car = Car(5)\n",
    "# ^ Same as writing next line\n",
    "my_car.seats = 5\n",
    "```"
   ]
  },
  {
   "cell_type": "markdown",
   "metadata": {},
   "source": [
    "Class Method must always have a `self` parameter, and as many additional parameters"
   ]
  },
  {
   "cell_type": "code",
   "execution_count": 1,
   "metadata": {},
   "outputs": [
    {
     "name": "stdout",
     "output_type": "stream",
     "text": [
      "1 Abhi 0 0\n",
      "2 Jeet 0 0\n",
      "1 Abhi 0 1\n",
      "2 Jeet 1 0\n"
     ]
    }
   ],
   "source": [
    "class User:\n",
    "    def __init__(self, user_id, user_name):\n",
    "        self.id = user_id\n",
    "        self.user_name = user_name\n",
    "        self.followers = 0\n",
    "        self.following = 0\n",
    "    def follow(self, user):\n",
    "        self.following += 1\n",
    "        user.followers += 1\n",
    "user_1 = User(1,'Abhi')\n",
    "print(f\"{user_1.id} {user_1.user_name} {user_1.followers} {user_1.following}\")\n",
    "user_2 = User(2,'Jeet')\n",
    "print(f\"{user_2.id} {user_2.user_name} {user_2.followers} {user_2.following}\")\n",
    "user_1.follow(user_2)\n",
    "print(f\"{user_1.id} {user_1.user_name} {user_1.followers} {user_1.following}\")\n",
    "print(f\"{user_2.id} {user_2.user_name} {user_2.followers} {user_2.following}\")"
   ]
  },
  {
   "cell_type": "markdown",
   "metadata": {},
   "source": [
    "---"
   ]
  }
 ],
 "metadata": {
  "kernelspec": {
   "display_name": "Python 3",
   "language": "python",
   "name": "python3"
  },
  "language_info": {
   "codemirror_mode": {
    "name": "ipython",
    "version": 3
   },
   "file_extension": ".py",
   "mimetype": "text/x-python",
   "name": "python",
   "nbconvert_exporter": "python",
   "pygments_lexer": "ipython3",
   "version": "3.7.6"
  }
 },
 "nbformat": 4,
 "nbformat_minor": 4
}
