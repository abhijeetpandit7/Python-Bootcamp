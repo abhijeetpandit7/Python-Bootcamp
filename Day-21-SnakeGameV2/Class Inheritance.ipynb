{
 "cells": [
  {
   "cell_type": "markdown",
   "metadata": {},
   "source": [
    "# Day 21"
   ]
  },
  {
   "cell_type": "markdown",
   "metadata": {},
   "source": [
    "###### Class Inheritance\n"
   ]
  },
  {
   "cell_type": "markdown",
   "metadata": {},
   "source": [
    "- Here Fish class is inhereting from Animal class.\n",
    "- Super initializes all attributes & methods of Animal class\n",
    "\n",
    "```python\n",
    "class Fish(Animals):\n",
    "    def __init(self):\n",
    "        super().__init__()\n",
    "```"
   ]
  },
  {
   "cell_type": "code",
   "execution_count": 31,
   "metadata": {},
   "outputs": [
    {
     "name": "stdout",
     "output_type": "stream",
     "text": [
      "Inhale Exhale\n",
      "Inside water\n"
     ]
    }
   ],
   "source": [
    "class Animal:\n",
    "    def __init__(self):\n",
    "        self.num_eyes = 2\n",
    "    def breathe(self):\n",
    "        print(\"Inhale Exhale\")\n",
    "\n",
    "class Fish(Animal):\n",
    "    def __init__(self):\n",
    "        super().__init__()\n",
    "    def breathe(self):\n",
    "        # Add to parent class\n",
    "        super().breathe()\n",
    "        print(\"Inside water\")\n",
    "    def swim(self):\n",
    "        print(\"Moving in water\")\n",
    "lion = Animal()\n",
    "nemo = Fish()\n",
    "nemo.breathe()"
   ]
  },
  {
   "cell_type": "markdown",
   "metadata": {},
   "source": [
    "###### Slice Lists & Tuples\n",
    "\n",
    "- start : stop : increment\n",
    "- print list start from end to begining\n",
    "```python\n",
    "list[::-1]\n",
    "```"
   ]
  },
  {
   "cell_type": "code",
   "execution_count": 36,
   "metadata": {},
   "outputs": [
    {
     "data": {
      "text/plain": [
       "['a', 'c', 'e', 'g']"
      ]
     },
     "execution_count": 36,
     "metadata": {},
     "output_type": "execute_result"
    }
   ],
   "source": [
    "piano_keys = ['a','b','c','d','e','f','g','h']\n",
    "piano_keys[::2]"
   ]
  },
  {
   "cell_type": "code",
   "execution_count": null,
   "metadata": {},
   "outputs": [],
   "source": []
  }
 ],
 "metadata": {
  "kernelspec": {
   "display_name": "Python 3",
   "language": "python",
   "name": "python3"
  },
  "language_info": {
   "codemirror_mode": {
    "name": "ipython",
    "version": 3
   },
   "file_extension": ".py",
   "mimetype": "text/x-python",
   "name": "python",
   "nbconvert_exporter": "python",
   "pygments_lexer": "ipython3",
   "version": "3.7.6"
  }
 },
 "nbformat": 4,
 "nbformat_minor": 4
}
