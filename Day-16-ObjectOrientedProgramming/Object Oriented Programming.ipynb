{
 "cells": [
  {
   "cell_type": "markdown",
   "metadata": {},
   "source": [
    "# Day 16"
   ]
  },
  {
   "cell_type": "markdown",
   "metadata": {},
   "source": [
    "###### Object Oriented Programming"
   ]
  },
  {
   "cell_type": "markdown",
   "metadata": {},
   "source": [
    "Objects consist of `attributes` (variables) and `methods` (functions)  \n",
    "Multiple objects can be generated from same `Class` (blueprint)  \n",
    "> Create object from class:  \n",
    "```python \n",
    "objectName = className()\n",
    "```"
   ]
  },
  {
   "cell_type": "markdown",
   "metadata": {},
   "source": [
    "Accessing object attributes  \n",
    "```python\n",
    "object.attribute\n",
    "car.speed```\n",
    "Accessing object method  \n",
    "```python\n",
    "object.method()\n",
    "car.stop()```"
   ]
  },
  {
   "cell_type": "markdown",
   "metadata": {},
   "source": [
    "Import module named `turtle`\n",
    "```python\n",
    "import turtle\n",
    "```\n",
    "Create tinny `object`, by accessing `class` Turtle inside `module` turtle\n",
    "```python\n",
    "tinny = turtle.Turtle()\n",
    "```\n",
    "---\n",
    "Or import class Turtle directly from module turtle\n",
    "```python\n",
    "from turtle import Turtle, Screen # Import class from module\n",
    "# Create objects\n",
    "tinny = Turtle()\n",
    "my_screen = Screen()\n",
    "# Access object attributes\n",
    "canvh = my_screen.canvheight\n",
    "# Access object methods\n",
    "tinny.shape('turtle')\n",
    "tinny.color('red','green')\n",
    "tinny.forward(100)\n",
    "my_screen.exitonclick()\n",
    "```"
   ]
  },
  {
   "cell_type": "markdown",
   "metadata": {},
   "source": [
    "---"
   ]
  }
 ],
 "metadata": {
  "kernelspec": {
   "display_name": "Python 3",
   "language": "python",
   "name": "python3"
  },
  "language_info": {
   "codemirror_mode": {
    "name": "ipython",
    "version": 3
   },
   "file_extension": ".py",
   "mimetype": "text/x-python",
   "name": "python",
   "nbconvert_exporter": "python",
   "pygments_lexer": "ipython3",
   "version": "3.7.6"
  }
 },
 "nbformat": 4,
 "nbformat_minor": 4
}
