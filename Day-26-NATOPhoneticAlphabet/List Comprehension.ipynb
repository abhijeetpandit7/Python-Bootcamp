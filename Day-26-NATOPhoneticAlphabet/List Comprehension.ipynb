{
 "cells": [
  {
   "cell_type": "markdown",
   "id": "collect-prairie",
   "metadata": {},
   "source": [
    "# Day 26"
   ]
  },
  {
   "cell_type": "markdown",
   "id": "processed-yemen",
   "metadata": {},
   "source": [
    "###### List Comprehension"
   ]
  },
  {
   "cell_type": "code",
   "execution_count": 1,
   "id": "delayed-civilization",
   "metadata": {},
   "outputs": [
    {
     "name": "stdout",
     "output_type": "stream",
     "text": [
      "[2, 4, 6]\n"
     ]
    }
   ],
   "source": [
    "# The long way\n",
    "numbers = [1,2,3]\n",
    "new_list = []\n",
    "for i in numbers:\n",
    "    new_list.append(i*2)\n",
    "print(new_list)"
   ]
  },
  {
   "cell_type": "markdown",
   "id": "stunning-chemistry",
   "metadata": {},
   "source": [
    "**Syntax**\n",
    "```python\n",
    "new_list = [new_item for item in list]\n",
    "```\n",
    "- Can also be applied for Python Sequences like *string, list, range, tuple*"
   ]
  },
  {
   "cell_type": "code",
   "execution_count": 2,
   "id": "curious-mauritius",
   "metadata": {},
   "outputs": [
    {
     "name": "stdout",
     "output_type": "stream",
     "text": [
      "[2, 4, 6]\n"
     ]
    }
   ],
   "source": [
    "# Using list comprehension\n",
    "numbers = [1,2,3]\n",
    "new_list = [num*2 for num in numbers]\n",
    "print(new_list)"
   ]
  },
  {
   "cell_type": "code",
   "execution_count": 3,
   "id": "saving-mexican",
   "metadata": {},
   "outputs": [
    {
     "name": "stdout",
     "output_type": "stream",
     "text": [
      "['A', 'r', 'n', 'o', 'l', 'd']\n"
     ]
    }
   ],
   "source": [
    "name = 'Arnold'\n",
    "letter_list = [letter for letter in name]\n",
    "print(letter_list)"
   ]
  },
  {
   "cell_type": "code",
   "execution_count": 4,
   "id": "union-indicator",
   "metadata": {},
   "outputs": [
    {
     "name": "stdout",
     "output_type": "stream",
     "text": [
      "[2, 4, 6, 8, 10]\n"
     ]
    }
   ],
   "source": [
    "number_range = range(1,6)\n",
    "doubled = [num*2 for num in number_range]\n",
    "print(doubled)"
   ]
  },
  {
   "cell_type": "markdown",
   "id": "spiritual-combine",
   "metadata": {},
   "source": [
    "###### Conditional List Comprehension"
   ]
  },
  {
   "cell_type": "markdown",
   "id": "federal-mistake",
   "metadata": {},
   "source": [
    "```python\n",
    "new_list = [new_item for item in list if test]\n",
    "```"
   ]
  },
  {
   "cell_type": "code",
   "execution_count": 10,
   "id": "employed-thanks",
   "metadata": {},
   "outputs": [
    {
     "data": {
      "text/plain": [
       "['Rock', 'John']"
      ]
     },
     "execution_count": 10,
     "metadata": {},
     "output_type": "execute_result"
    }
   ],
   "source": [
    "names = ['Freddie','Rock','Isabella','John']\n",
    "short_names = [name for name in names if len(name)<5]\n",
    "short_names"
   ]
  },
  {
   "cell_type": "code",
   "execution_count": 14,
   "id": "executed-acceptance",
   "metadata": {},
   "outputs": [
    {
     "data": {
      "text/plain": [
       "['FREDDIE', 'ISABELLA']"
      ]
     },
     "execution_count": 14,
     "metadata": {},
     "output_type": "execute_result"
    }
   ],
   "source": [
    "names = ['Freddie','Rock','Isabella','John']\n",
    "short_names = [name.upper() for name in names if len(name)>5]\n",
    "short_names"
   ]
  },
  {
   "cell_type": "code",
   "execution_count": 15,
   "id": "toxic-withdrawal",
   "metadata": {},
   "outputs": [
    {
     "name": "stdout",
     "output_type": "stream",
     "text": [
      "[1, 1, 4, 9, 25, 64, 169, 441, 1156, 3025]\n"
     ]
    }
   ],
   "source": [
    "numbers = [1, 1, 2, 3, 5, 8, 13, 21, 34, 55]\n",
    "squared_numbers = [num**2 for num in numbers]\n",
    "print(squared_numbers)"
   ]
  },
  {
   "cell_type": "code",
   "execution_count": 16,
   "id": "fabulous-theory",
   "metadata": {},
   "outputs": [
    {
     "name": "stdout",
     "output_type": "stream",
     "text": [
      "[2, 8, 34]\n"
     ]
    }
   ],
   "source": [
    "numbers = [1, 1, 2, 3, 5, 8, 13, 21, 34, 55]\n",
    "result = [num for num in numbers if num%2==0]\n",
    "print(result)"
   ]
  },
  {
   "cell_type": "markdown",
   "id": "proved-architecture",
   "metadata": {},
   "source": [
    "---"
   ]
  },
  {
   "cell_type": "markdown",
   "id": "large-china",
   "metadata": {},
   "source": [
    "###### Dictionary Comprehension"
   ]
  },
  {
   "cell_type": "markdown",
   "id": "mysterious-render",
   "metadata": {},
   "source": [
    "- Similarly applied for Python Sequences like *string, list, range, tuple*\n",
    "```python\n",
    "new_dict = {new_key:new_value for item in list if test}\n",
    "new_dict = {new_key:new_value for (key,value) in dict.items() if test}\n",
    "```\n",
    "- *.item()* returns array of key-value pairs"
   ]
  },
  {
   "cell_type": "code",
   "execution_count": 2,
   "id": "infectious-angola",
   "metadata": {},
   "outputs": [
    {
     "data": {
      "text/plain": [
       "{'key1': 'a', 'key2': 'b'}"
      ]
     },
     "execution_count": 2,
     "metadata": {},
     "output_type": "execute_result"
    }
   ],
   "source": [
    "dict = {'key1' : 'a', 'key2' : 'b'}\n",
    "dict"
   ]
  },
  {
   "cell_type": "code",
   "execution_count": 21,
   "id": "silent-chassis",
   "metadata": {},
   "outputs": [
    {
     "data": {
      "text/plain": [
       "{'Freddie': 2, 'Rock': 7, 'Isabella': 8, 'John': 8}"
      ]
     },
     "execution_count": 21,
     "metadata": {},
     "output_type": "execute_result"
    }
   ],
   "source": [
    "# Using List\n",
    "import random\n",
    "names = ['Freddie','Rock','Isabella','John']\n",
    "new_dict = {name:random.randint(1,10) for name in names}\n",
    "new_dict"
   ]
  },
  {
   "cell_type": "code",
   "execution_count": 22,
   "id": "parallel-survey",
   "metadata": {},
   "outputs": [
    {
     "data": {
      "text/plain": [
       "{'Rock': 7, 'Isabella': 8, 'John': 8}"
      ]
     },
     "execution_count": 22,
     "metadata": {},
     "output_type": "execute_result"
    }
   ],
   "source": [
    "# Using Dictionary\n",
    "pass_dict = {key:value for (key,value) in new_dict.items() if value >5}\n",
    "pass_dict"
   ]
  },
  {
   "cell_type": "markdown",
   "id": "fatty-villa",
   "metadata": {},
   "source": [
    "---"
   ]
  },
  {
   "cell_type": "markdown",
   "id": "negative-roommate",
   "metadata": {},
   "source": [
    "###### Interactive Coding Exercise"
   ]
  },
  {
   "cell_type": "code",
   "execution_count": 24,
   "id": "bored-shame",
   "metadata": {},
   "outputs": [
    {
     "name": "stdout",
     "output_type": "stream",
     "text": [
      "{'What': 4, 'is': 2, 'the': 3, 'Airspeed': 8, 'Velocity': 8, 'of': 2, 'an': 2, 'Unladen': 7, 'Swallow?': 8}\n"
     ]
    }
   ],
   "source": [
    "sentence = \"What is the Airspeed Velocity of an Unladen Swallow?\"\n",
    "result = {word:len(word) for word in sentence.split(' ')}\n",
    "print(result)"
   ]
  },
  {
   "cell_type": "code",
   "execution_count": 28,
   "id": "military-tanzania",
   "metadata": {},
   "outputs": [
    {
     "name": "stdout",
     "output_type": "stream",
     "text": [
      "{'Monday': 53.6, 'Tuesday': 57.2, 'Wednesday': 59.0, 'Thursday': 57.2, 'Friday': 69.8, 'Saturday': 71.6, 'Sunday': 75.2}\n"
     ]
    }
   ],
   "source": [
    "weather_c = {\n",
    "    \"Monday\": 12,\n",
    "    \"Tuesday\": 14,\n",
    "    \"Wednesday\": 15,\n",
    "    \"Thursday\": 14,\n",
    "    \"Friday\": 21,\n",
    "    \"Saturday\": 22,\n",
    "    \"Sunday\": 24,\n",
    "}\n",
    "weather_f = {day:(temp_c * 9/5 + 32) for (day,temp_c) in weather_c.items()}\n",
    "print(weather_f)"
   ]
  },
  {
   "cell_type": "markdown",
   "id": "champion-lecture",
   "metadata": {},
   "source": [
    "###### Iterate over pandas dataframe"
   ]
  },
  {
   "cell_type": "code",
   "execution_count": 30,
   "id": "toxic-increase",
   "metadata": {},
   "outputs": [
    {
     "name": "stdout",
     "output_type": "stream",
     "text": [
      "student\n",
      "['Freddie', 'Rock', 'Isabella', 'John']\n",
      "score\n",
      "[4, 6, 2, 3]\n"
     ]
    }
   ],
   "source": [
    "# Looping through dictionaries\n",
    "student_dict = {\n",
    "    'student' : ['Freddie','Rock','Isabella','John'],\n",
    "    'score' : [4,6,2,3]\n",
    "}\n",
    "for (key,value) in student_dict.items():\n",
    "    print(key)\n",
    "    print(value)"
   ]
  },
  {
   "cell_type": "code",
   "execution_count": 33,
   "id": "excess-victoria",
   "metadata": {},
   "outputs": [
    {
     "data": {
      "text/html": [
       "<div>\n",
       "<style scoped>\n",
       "    .dataframe tbody tr th:only-of-type {\n",
       "        vertical-align: middle;\n",
       "    }\n",
       "\n",
       "    .dataframe tbody tr th {\n",
       "        vertical-align: top;\n",
       "    }\n",
       "\n",
       "    .dataframe thead th {\n",
       "        text-align: right;\n",
       "    }\n",
       "</style>\n",
       "<table border=\"1\" class=\"dataframe\">\n",
       "  <thead>\n",
       "    <tr style=\"text-align: right;\">\n",
       "      <th></th>\n",
       "      <th>student</th>\n",
       "      <th>score</th>\n",
       "    </tr>\n",
       "  </thead>\n",
       "  <tbody>\n",
       "    <tr>\n",
       "      <th>0</th>\n",
       "      <td>Freddie</td>\n",
       "      <td>4</td>\n",
       "    </tr>\n",
       "    <tr>\n",
       "      <th>1</th>\n",
       "      <td>Rock</td>\n",
       "      <td>6</td>\n",
       "    </tr>\n",
       "    <tr>\n",
       "      <th>2</th>\n",
       "      <td>Isabella</td>\n",
       "      <td>2</td>\n",
       "    </tr>\n",
       "    <tr>\n",
       "      <th>3</th>\n",
       "      <td>John</td>\n",
       "      <td>3</td>\n",
       "    </tr>\n",
       "  </tbody>\n",
       "</table>\n",
       "</div>"
      ],
      "text/plain": [
       "    student  score\n",
       "0   Freddie      4\n",
       "1      Rock      6\n",
       "2  Isabella      2\n",
       "3      John      3"
      ]
     },
     "execution_count": 33,
     "metadata": {},
     "output_type": "execute_result"
    }
   ],
   "source": [
    "import pandas as pd\n",
    "student_df = pd.DataFrame(student_dict)\n",
    "student_df"
   ]
  },
  {
   "cell_type": "code",
   "execution_count": 37,
   "id": "responsible-chase",
   "metadata": {},
   "outputs": [
    {
     "name": "stdout",
     "output_type": "stream",
     "text": [
      "student\n",
      "0     Freddie\n",
      "1        Rock\n",
      "2    Isabella\n",
      "3        John\n",
      "Name: student, dtype: object\n",
      "score\n",
      "0    4\n",
      "1    6\n",
      "2    2\n",
      "3    3\n",
      "Name: score, dtype: int64\n"
     ]
    }
   ],
   "source": [
    "# Looping through a dataframe\n",
    "for (key,value) in student_df.items():\n",
    "    print(key)\n",
    "    print(value)"
   ]
  },
  {
   "cell_type": "markdown",
   "id": "statistical-traffic",
   "metadata": {},
   "source": [
    "- Pandas provide in-built loop *.iterrows()*\n",
    "- Returns pandas series object"
   ]
  },
  {
   "cell_type": "code",
   "execution_count": 43,
   "id": "international-publication",
   "metadata": {},
   "outputs": [
    {
     "name": "stdout",
     "output_type": "stream",
     "text": [
      "Freddie\n",
      "4\n",
      "Rock\n",
      "6\n",
      "Isabella\n",
      "2\n",
      "John\n",
      "3\n"
     ]
    }
   ],
   "source": [
    "# Looping through rows of dataframe\n",
    "for (index, row) in student_df.iterrows():\n",
    "#     print(index)\n",
    "#     print(row)\n",
    "    print(row.student)\n",
    "    print(row.score)"
   ]
  },
  {
   "cell_type": "markdown",
   "id": "contained-joining",
   "metadata": {},
   "source": [
    "---"
   ]
  }
 ],
 "metadata": {
  "kernelspec": {
   "display_name": "Python 3",
   "language": "python",
   "name": "python3"
  },
  "language_info": {
   "codemirror_mode": {
    "name": "ipython",
    "version": 3
   },
   "file_extension": ".py",
   "mimetype": "text/x-python",
   "name": "python",
   "nbconvert_exporter": "python",
   "pygments_lexer": "ipython3",
   "version": "3.9.1"
  }
 },
 "nbformat": 4,
 "nbformat_minor": 5
}
