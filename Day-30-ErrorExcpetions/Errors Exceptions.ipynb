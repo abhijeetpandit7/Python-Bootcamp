{
 "cells": [
  {
   "cell_type": "markdown",
   "id": "signal-whale",
   "metadata": {},
   "source": [
    "# Day 30"
   ]
  },
  {
   "cell_type": "markdown",
   "id": "invisible-rebound",
   "metadata": {},
   "source": [
    "###### Errors & Exceptions"
   ]
  },
  {
   "cell_type": "code",
   "execution_count": null,
   "id": "appropriate-reality",
   "metadata": {},
   "outputs": [],
   "source": [
    "# FileNotFoundError\n",
    "with open('no_such_file.txt','r') as f:\n",
    "    f.read()"
   ]
  },
  {
   "cell_type": "code",
   "execution_count": null,
   "id": "opened-emphasis",
   "metadata": {},
   "outputs": [],
   "source": [
    "# KeyError\n",
    "my_dict = {'key': 'value'}\n",
    "my_dict['no_such_key']"
   ]
  },
  {
   "cell_type": "code",
   "execution_count": null,
   "id": "wrapped-peninsula",
   "metadata": {},
   "outputs": [],
   "source": [
    "# IndexError\n",
    "my_list = [1,2,3]\n",
    "my_list[5]"
   ]
  },
  {
   "cell_type": "code",
   "execution_count": null,
   "id": "moving-parliament",
   "metadata": {},
   "outputs": [],
   "source": [
    "# TypeError\n",
    "string = 'hi'\n",
    "string + 5"
   ]
  },
  {
   "cell_type": "markdown",
   "id": "painful-colonial",
   "metadata": {},
   "source": [
    "###### Catching Exceptions\n",
    "```python\n",
    "try:\n",
    "    # Something that might cause an exception\n",
    "except:\n",
    "    # Do this if there was an exception\n",
    "else:    \n",
    "    # Do this if there were no exceptions\n",
    "finally:\n",
    "    # Do this no matter what happens\n",
    "```"
   ]
  },
  {
   "cell_type": "code",
   "execution_count": 32,
   "id": "comfortable-pollution",
   "metadata": {},
   "outputs": [
    {
     "name": "stdout",
     "output_type": "stream",
     "text": [
      "FileNotFoundError [Errno 2] No such file or directory: 'no_such_file.txt'\n",
      "No matter what, I will print\n"
     ]
    }
   ],
   "source": [
    "try:\n",
    "    with open('no_such_file.txt','r') as f:\n",
    "        f.read()\n",
    "    my_dict = {'key': 'value'}\n",
    "    print(my_dict['no_such_key'])\n",
    "except KeyError as error_message:\n",
    "    print(f'KeyError {error_message}')\n",
    "except FileNotFoundError as error_message:\n",
    "    print(f'FileNotFoundError {error_message}')\n",
    "else:\n",
    "    print('No errors found')\n",
    "finally:\n",
    "    print('No matter what, I will print')"
   ]
  },
  {
   "cell_type": "markdown",
   "id": "weird-while",
   "metadata": {},
   "source": [
    "###### Raising Exceptions\n",
    "\n",
    "```python\n",
    "raise\n",
    "```"
   ]
  },
  {
   "cell_type": "code",
   "execution_count": 36,
   "id": "obvious-poverty",
   "metadata": {},
   "outputs": [
    {
     "ename": "TypeError",
     "evalue": "My own error message",
     "output_type": "error",
     "traceback": [
      "\u001b[1;31m---------------------------------------------------------------------------\u001b[0m",
      "\u001b[1;31mTypeError\u001b[0m                                 Traceback (most recent call last)",
      "\u001b[1;32m<ipython-input-36-09a9c0a1c94d>\u001b[0m in \u001b[0;36m<module>\u001b[1;34m\u001b[0m\n\u001b[1;32m----> 1\u001b[1;33m \u001b[1;32mraise\u001b[0m \u001b[0mTypeError\u001b[0m\u001b[1;33m(\u001b[0m\u001b[1;34m\"My own error message\"\u001b[0m\u001b[1;33m)\u001b[0m\u001b[1;33m\u001b[0m\u001b[1;33m\u001b[0m\u001b[0m\n\u001b[0m",
      "\u001b[1;31mTypeError\u001b[0m: My own error message"
     ]
    }
   ],
   "source": [
    "raise TypeError(\"My own error message\")"
   ]
  },
  {
   "cell_type": "code",
   "execution_count": 43,
   "id": "funky-plastic",
   "metadata": {},
   "outputs": [
    {
     "name": "stdout",
     "output_type": "stream",
     "text": [
      "Fruit pie\n"
     ]
    }
   ],
   "source": [
    "fruits = [\"Apple\", \"Pear\", \"Orange\"]\n",
    "\n",
    "def make_pie(index):\n",
    "    try:\n",
    "        fruit = fruits[index]\n",
    "    except IndexError:\n",
    "        print('Fruit pie')\n",
    "    else:\n",
    "        print(fruit + \" pie\")\n",
    "        \n",
    "make_pie(3)"
   ]
  },
  {
   "cell_type": "code",
   "execution_count": 46,
   "id": "superb-tobago",
   "metadata": {},
   "outputs": [
    {
     "name": "stdout",
     "output_type": "stream",
     "text": [
      "86\n"
     ]
    }
   ],
   "source": [
    "facebook_posts = [\n",
    "    {'Likes': 21, 'Comments': 2}, \n",
    "    {'Likes': 13, 'Comments': 2, 'Shares': 1}, \n",
    "    {'Likes': 33, 'Comments': 8, 'Shares': 3}, \n",
    "    {'Comments': 4, 'Shares': 2}, \n",
    "    {'Comments': 1, 'Shares': 1}, \n",
    "    {'Likes': 19, 'Comments': 3}\n",
    "]\n",
    "\n",
    "total_likes = 0\n",
    "\n",
    "for post in facebook_posts:\n",
    "    try:\n",
    "        total_likes += post['Likes']\n",
    "    except KeyError:\n",
    "        pass\n",
    "    \n",
    "print(total_likes)"
   ]
  },
  {
   "cell_type": "markdown",
   "id": "raising-horror",
   "metadata": {},
   "source": [
    "###### Write, Read, Update JSON Data\n",
    "```python\n",
    "json.dump()\n",
    "json.load()\n",
    "json.update()\n",
    "```"
   ]
  },
  {
   "cell_type": "code",
   "execution_count": null,
   "id": "commercial-alexander",
   "metadata": {},
   "outputs": [],
   "source": [
    "new_data = {\n",
    "    website : {\n",
    "        'email' : email,\n",
    "        'password' : password\n",
    "    }\n",
    "}\n",
    "\n",
    "with open('data.json','r') as file:\n",
    "    # Read json data\n",
    "    data = json.load(file)\n",
    "    # Update old data with new data\n",
    "    data.update(new_data)\n",
    "    \n",
    "with open('data.json','w') as f:\n",
    "    # Saving new data to json\n",
    "    json.dump(data, f, indent=4)"
   ]
  }
 ],
 "metadata": {
  "kernelspec": {
   "display_name": "Python 3",
   "language": "python",
   "name": "python3"
  },
  "language_info": {
   "codemirror_mode": {
    "name": "ipython",
    "version": 3
   },
   "file_extension": ".py",
   "mimetype": "text/x-python",
   "name": "python",
   "nbconvert_exporter": "python",
   "pygments_lexer": "ipython3",
   "version": "3.9.1"
  }
 },
 "nbformat": 4,
 "nbformat_minor": 5
}
