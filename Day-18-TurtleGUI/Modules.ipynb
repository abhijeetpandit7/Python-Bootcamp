{
 "cells": [
  {
   "cell_type": "markdown",
   "metadata": {},
   "source": [
    "# Day 19"
   ]
  },
  {
   "cell_type": "markdown",
   "metadata": {},
   "source": [
    "###### Importing Modules"
   ]
  },
  {
   "cell_type": "markdown",
   "metadata": {},
   "source": [
    "Module or Classes can be imported in three ways\n",
    "```python\n",
    "import turtle\n",
    "timmy = turlte.Turtle()\n",
    "```\n",
    "```python\n",
    "from turtle import Turtle\n",
    "timmy = Turtle()\n",
    "```\n",
    "```python\n",
    "from turtle import *\n",
    "```"
   ]
  },
  {
   "cell_type": "markdown",
   "metadata": {},
   "source": [
    "- tk refers to tkinter module, which is one of the ways of creating GUI"
   ]
  },
  {
   "cell_type": "markdown",
   "metadata": {},
   "source": [
    "###### Aliasing Modules"
   ]
  },
  {
   "cell_type": "markdown",
   "metadata": {},
   "source": [
    "```python\n",
    "import turtle as t\n",
    "```"
   ]
  },
  {
   "cell_type": "markdown",
   "metadata": {},
   "source": [
    "###### Python Tuples\n",
    "- Tuples do not support item assignment or cannot be removed ie immutable\n",
    "- Tuples can be converted to list\n",
    "```python\n",
    "list(my_tuple)\n",
    "```\n",
    "---\n",
    "```python\n",
    "my_tuple = (1,2,3) # Create\n",
    "\n",
    "my_tuple[0] # Access\n",
    "```"
   ]
  },
  {
   "cell_type": "markdown",
   "metadata": {},
   "source": [
    "---"
   ]
  }
 ],
 "metadata": {
  "kernelspec": {
   "display_name": "Python 3",
   "language": "python",
   "name": "python3"
  },
  "language_info": {
   "codemirror_mode": {
    "name": "ipython",
    "version": 3
   },
   "file_extension": ".py",
   "mimetype": "text/x-python",
   "name": "python",
   "nbconvert_exporter": "python",
   "pygments_lexer": "ipython3",
   "version": "3.7.6"
  }
 },
 "nbformat": 4,
 "nbformat_minor": 4
}
