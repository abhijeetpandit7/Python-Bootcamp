{
 "cells": [
  {
   "cell_type": "markdown",
   "metadata": {},
   "source": [
    "# Day 1 "
   ]
  },
  {
   "cell_type": "markdown",
   "metadata": {},
   "source": [
    "##### Printing, Commenting, Debugging, String Manipulation & Variables"
   ]
  },
  {
   "cell_type": "code",
   "execution_count": 4,
   "metadata": {},
   "outputs": [
    {
     "name": "stdout",
     "output_type": "stream",
     "text": [
      "Day 1 - Python Print Function \n",
      "The function is declared like this: \n",
      "print('What to print')\n"
     ]
    }
   ],
   "source": [
    "print(\"Day 1 - Python Print Function \\nThe function is declared like this: \\nprint('What to print')\")"
   ]
  },
  {
   "cell_type": "code",
   "execution_count": 9,
   "metadata": {
    "scrolled": true
   },
   "outputs": [
    {
     "name": "stdout",
     "output_type": "stream",
     "text": [
      "String Concatenation\n"
     ]
    }
   ],
   "source": [
    "print(\"String \" + \"Concatenation\")"
   ]
  },
  {
   "cell_type": "markdown",
   "metadata": {},
   "source": [
    "##### Python Input Function"
   ]
  },
  {
   "cell_type": "code",
   "execution_count": 2,
   "metadata": {
    "scrolled": true
   },
   "outputs": [
    {
     "name": "stdout",
     "output_type": "stream",
     "text": [
      "What is your name? Abhijeet\n",
      "Hello Abhijeet\n"
     ]
    }
   ],
   "source": [
    "print(\"Hello \" + input(\"What is your name? \"))"
   ]
  },
  {
   "cell_type": "code",
   "execution_count": 6,
   "metadata": {},
   "outputs": [
    {
     "name": "stdout",
     "output_type": "stream",
     "text": [
      "Enter here hello world\n",
      "Word length is 11\n"
     ]
    }
   ],
   "source": [
    "print(\"Word length is \" + str(len(input(\"Enter here \"))))"
   ]
  },
  {
   "cell_type": "markdown",
   "metadata": {},
   "source": [
    "###### Project band name generator"
   ]
  },
  {
   "cell_type": "code",
   "execution_count": 3,
   "metadata": {
    "scrolled": true
   },
   "outputs": [
    {
     "name": "stdout",
     "output_type": "stream",
     "text": [
      "Welcome to the Band Name Generator\n",
      "Whats name of the city you grew up in?\n",
      "Mumbai\n",
      "Whats your pet's name?\n",
      "Tom\n",
      "Your band name could be  Mumbai Tom\n"
     ]
    }
   ],
   "source": [
    "print(\"Welcome to the Band Name Generator\")\n",
    "city = input(\"Whats name of the city you grew up in?\\n\")\n",
    "pet = input(\"Whats your pet's name?\\n\")\n",
    "print(\"Your band name could be \",city,pet)"
   ]
  },
  {
   "cell_type": "markdown",
   "metadata": {},
   "source": [
    " ------------------------------------------------------------------------------------------------------------------------------"
   ]
  },
  {
   "cell_type": "markdown",
   "metadata": {},
   "source": [
    "# Day 2"
   ]
  },
  {
   "cell_type": "markdown",
   "metadata": {},
   "source": [
    "###### Data Types, Numbers, Operations, Type Conversion, f-Strings"
   ]
  },
  {
   "cell_type": "raw",
   "metadata": {},
   "source": [
    "# String\n",
    "    Anything enclosed under \"\" or ''\n",
    "# Integer\n",
    "    No quotes. Number can be written separating with _\n",
    "# Float \n",
    "    Similarly, only difference is it has decimal value.\n",
    "    Also if the decimal place shifts left or right ie Float Point Number\n",
    "# Boolean\n",
    "    True False"
   ]
  },
  {
   "cell_type": "raw",
   "metadata": {},
   "source": [
    "# Converion\n",
    "    str()\n",
    "    int()\n",
    "    float()\n",
    "    bool()"
   ]
  },
  {
   "cell_type": "markdown",
   "metadata": {},
   "source": [
    "###### Sum of 2-digit number"
   ]
  },
  {
   "cell_type": "code",
   "execution_count": 25,
   "metadata": {},
   "outputs": [
    {
     "name": "stdout",
     "output_type": "stream",
     "text": [
      "Enter a 2-digit number: 12\n",
      "Sum ->  3\n"
     ]
    }
   ],
   "source": [
    "number = input(\"Enter a 2-digit number: \")\n",
    "type(number)  # String\n",
    "digit0 = int(number[0])  # Convert to integer\n",
    "digit1 = int(number[1])  # Convert to integer\n",
    "print(\"Sum -> \", digit0 + digit1)"
   ]
  },
  {
   "cell_type": "raw",
   "metadata": {},
   "source": [
    "# Mathematical Operations\n",
    "    +\n",
    "    -\n",
    "    *\n",
    "    /   Float o/p\n",
    "    //  Integer o/p (Floor division)\n",
    "    **  Power"
   ]
  },
  {
   "cell_type": "raw",
   "metadata": {},
   "source": [
    "# Priority PEMDASLR\n",
    "    ()\n",
    "    **\n",
    "    * /\n",
    "    + -"
   ]
  },
  {
   "cell_type": "markdown",
   "metadata": {},
   "source": [
    "###### BMI Calculator"
   ]
  },
  {
   "cell_type": "code",
   "execution_count": 48,
   "metadata": {},
   "outputs": [
    {
     "name": "stdout",
     "output_type": "stream",
     "text": [
      "Enter your weight in kg: 68\n",
      "Enter your height in cm: 172\n",
      "BMI ->  23\n"
     ]
    }
   ],
   "source": [
    "weight = float(input(\"Enter your weight in kg: \"))\n",
    "height = float(input(\"Enter your height in cm: \"))\n",
    "bmi = weight / (height/100)**2\n",
    "print(\"BMI -> \",round(bmi))"
   ]
  },
  {
   "cell_type": "raw",
   "metadata": {},
   "source": [
    "round(num, no_of_place) -> Rounds of num to a no of decimal place"
   ]
  },
  {
   "cell_type": "raw",
   "metadata": {},
   "source": [
    "Earlier for printing integer in print, we did say int(num)\n",
    "f-String deals with all data types - int, float, bool. \n",
    "It converts all to string\n",
    "Change -> print(f\"\")"
   ]
  },
  {
   "cell_type": "code",
   "execution_count": 60,
   "metadata": {},
   "outputs": [
    {
     "name": "stdout",
     "output_type": "stream",
     "text": [
      "Mohan divided 23 for o/p 2.3 which is True\n"
     ]
    }
   ],
   "source": [
    "str = \"Mohan\"\n",
    "num = 23\n",
    "dec = 2.3\n",
    "val = True\n",
    "print(f\"{str} divided {num} for o/p {dec} which is {val}\")"
   ]
  },
  {
   "cell_type": "markdown",
   "metadata": {},
   "source": [
    "###### Your life in weeks"
   ]
  },
  {
   "cell_type": "code",
   "execution_count": 64,
   "metadata": {},
   "outputs": [
    {
     "name": "stdout",
     "output_type": "stream",
     "text": [
      "Enter your age: 20\n",
      "You have 25550 days, 3640 weeks and 840 months left\n"
     ]
    }
   ],
   "source": [
    "age = int(input(\"Enter your age: \"))\n",
    "# Lets say you live upto 90\n",
    "years = 90 - age\n",
    "day = years * 365\n",
    "week = years * 52\n",
    "month = years * 12\n",
    "print(f\"You have {day} days, {week} weeks and {month} months left\")"
   ]
  },
  {
   "cell_type": "markdown",
   "metadata": {},
   "source": [
    "###### Project Tip Calculator"
   ]
  },
  {
   "cell_type": "raw",
   "metadata": {},
   "source": [
    "Round function leaves 12.5 as it is, buy if we need to print 12.50 use format()\n",
    "\"{:.2f}\".format(bill)\n",
    "More about format:\n",
    "'Sam has {1:d} red balls and {0:d} yellow balls'.format(12, 31) #Sam has 31 red balls and 12 yellow balls"
   ]
  },
  {
   "cell_type": "code",
   "execution_count": 142,
   "metadata": {},
   "outputs": [
    {
     "name": "stdout",
     "output_type": "stream",
     "text": [
      "Welcome to tip calculator\n",
      "What is the total bill? Rs.150\n",
      "What percentage tip would you like to give? 12\n",
      "How many people to split the bill? 5\n",
      "Each person should pay Rs.33.60\n"
     ]
    }
   ],
   "source": [
    "print(\"Welcome to tip calculator\")\n",
    "bill = float(input(\"What is the total bill? Rs.\"))\n",
    "tip_per = int(input(\"What percentage tip would you like to give? \"))\n",
    "pay = bill + (tip_per*bill/100)\n",
    "people = int(input(\"How many people to split the bill? \"))\n",
    "print(f\"Each person should pay Rs.{0:.2f}\".format(pay/people))\n",
    "print(f\"Each person should pay Rs.{pay/people:.2f}\")"
   ]
  },
  {
   "cell_type": "markdown",
   "metadata": {},
   "source": [
    "-------------------------------------------------------------------------------------------------------------------------------"
   ]
  }
 ],
 "metadata": {
  "kernelspec": {
   "display_name": "Python 3",
   "language": "python",
   "name": "python3"
  },
  "language_info": {
   "codemirror_mode": {
    "name": "ipython",
    "version": 3
   },
   "file_extension": ".py",
   "mimetype": "text/x-python",
   "name": "python",
   "nbconvert_exporter": "python",
   "pygments_lexer": "ipython3",
   "version": "3.7.6"
  }
 },
 "nbformat": 4,
 "nbformat_minor": 4
}
