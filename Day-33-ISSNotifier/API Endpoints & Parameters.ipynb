{
 "cells": [
  {
   "cell_type": "markdown",
   "id": "substantial-wiring",
   "metadata": {},
   "source": [
    "# Day 33"
   ]
  },
  {
   "cell_type": "markdown",
   "id": "bearing-jewel",
   "metadata": {},
   "source": [
    "###### API Endpoints & API Parameters"
   ]
  },
  {
   "cell_type": "markdown",
   "id": "amazing-blond",
   "metadata": {},
   "source": [
    "- An *Application Programming Interface* is a set of commands, functions, protocols and objects that programmers can use to create software or interact with an external system.\n",
    "- API Endpoints is the location where data is stored. Its just a URL.\n",
    "- API Request involves sending actual request, where your id, query gets authorized.\n",
    "- API Parameters allows to give input on request, to get different outcome."
   ]
  },
  {
   "cell_type": "markdown",
   "id": "sharp-single",
   "metadata": {},
   "source": [
    "###### HTTP Status Codes"
   ]
  },
  {
   "cell_type": "markdown",
   "id": "tight-brooks",
   "metadata": {},
   "source": [
    "- 1XX = Hold on something's happening\n",
    "- 2XX = Here you go, will get data as expected\n",
    "- 3XX = GO away, permission denied\n",
    "- 4XX = You screwed up, what you're trying to look doesn't exists\n",
    "- 5XX = Server screwed up, maybe server/website is down"
   ]
  },
  {
   "cell_type": "markdown",
   "id": "continuous-graph",
   "metadata": {},
   "source": [
    "```python\n",
    "import requests\n",
    "response = requests.get(url='http://api.open-notify.org/iss-now.json')\n",
    "print(response.status_code)\n",
    "response.raise_for_status() # Raises error if not successful\n",
    "data = response.json()\n",
    "```"
   ]
  },
  {
   "cell_type": "markdown",
   "id": "selected-church",
   "metadata": {},
   "source": [
    "---"
   ]
  }
 ],
 "metadata": {
  "kernelspec": {
   "display_name": "Python 3",
   "language": "python",
   "name": "python3"
  },
  "language_info": {
   "codemirror_mode": {
    "name": "ipython",
    "version": 3
   },
   "file_extension": ".py",
   "mimetype": "text/x-python",
   "name": "python",
   "nbconvert_exporter": "python",
   "pygments_lexer": "ipython3",
   "version": "3.9.1"
  }
 },
 "nbformat": 4,
 "nbformat_minor": 5
}
