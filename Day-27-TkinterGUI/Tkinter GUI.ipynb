{
 "cells": [
  {
   "cell_type": "markdown",
   "id": "bacterial-notice",
   "metadata": {},
   "source": [
    "# Day 27"
   ]
  },
  {
   "cell_type": "markdown",
   "id": "human-import",
   "metadata": {},
   "source": [
    "###### Tkinter, \\*args, **kwargs, Creating GUI Programs"
   ]
  },
  {
   "cell_type": "code",
   "execution_count": 15,
   "id": "excess-injection",
   "metadata": {},
   "outputs": [],
   "source": [
    "import tkinter"
   ]
  },
  {
   "cell_type": "code",
   "execution_count": 14,
   "id": "vocal-arkansas",
   "metadata": {},
   "outputs": [],
   "source": [
    "window = tkinter.Tk()\n",
    "window.title('GUI title')\n",
    "window.minsize(width=500, height=300)\n",
    "window.config(padx=20, pady=20)\n",
    "\n",
    "# Label\n",
    "FONT = ('arial',24,'bold')\n",
    "my_label = tkinter.Label(text='I am label', font=FONT)\n",
    "# pack() used to lay the components built\n",
    "# my_label.pack(side='bottom',expand=1)\n",
    "my_label.pack()\n",
    "\n",
    "\n",
    "# Alternate ways of updating properties of built component\n",
    "my_label['text'] = 'New label'\n",
    "my_label.config(text='Another new label')\n",
    "\n",
    "def btnClick():\n",
    "    user_input = input.get()\n",
    "    my_label['text'] = user_input\n",
    "    \n",
    "# Button\n",
    "my_button = tkinter.Button(text='Click me', command=btnClick)\n",
    "my_button.pack()\n",
    "\n",
    "# Entry\n",
    "input = tkinter.Entry(width=20)\n",
    "input.pack()\n",
    "\n",
    "window.mainloop()"
   ]
  },
  {
   "cell_type": "markdown",
   "id": "hungry-local",
   "metadata": {},
   "source": [
    "**Layout Manager**\n",
    "\n",
    "- **pack()**\n",
    "    - Adds components one below other, aligned at center\n",
    "    ---\n",
    "- **place()**\n",
    "    ```python\n",
    "    input = tkinter.Entry(width=20)\n",
    "    input.pack()\n",
    "    input.place(x=0,y=0)\n",
    "    ```\n",
    "    ---\n",
    "- **grid()** => Divides screen into num of rows & columns\n",
    "    ```python\n",
    "    input = tkinter.Entry(width=20)\n",
    "    input.pack()\n",
    "    input.column(row=0,column=0)\n",
    "    ```"
   ]
  },
  {
   "cell_type": "markdown",
   "id": "substantial-summer",
   "metadata": {},
   "source": [
    "###### Advanced Python Arguments\n",
    "###### *args: Many Positional Arguments => args - Tuple"
   ]
  },
  {
   "cell_type": "code",
   "execution_count": 24,
   "id": "falling-opposition",
   "metadata": {},
   "outputs": [
    {
     "name": "stdout",
     "output_type": "stream",
     "text": [
      "7\n",
      "15\n"
     ]
    }
   ],
   "source": [
    "# Here 'add' function takes 2 arguments only\n",
    "def add(n1,n2):\n",
    "    print(n1+n2)\n",
    "add(5,2)\n",
    "\n",
    "# For unlimited args:\n",
    "# Note: 'args' can be changed to any string, but '*' is required\n",
    "def add(*args):\n",
    "    numbers = [n for n in args]\n",
    "    print(sum(numbers))\n",
    "add(1,2,3,4,5)"
   ]
  },
  {
   "cell_type": "markdown",
   "id": "attractive-particle",
   "metadata": {},
   "source": [
    "###### **kwargs: Many Keyword Arguments => kwargs - Dictionary"
   ]
  },
  {
   "cell_type": "code",
   "execution_count": 35,
   "id": "cleared-necessity",
   "metadata": {},
   "outputs": [
    {
     "name": "stdout",
     "output_type": "stream",
     "text": [
      "Addition: 4\n",
      "Multiplication: 9\n"
     ]
    }
   ],
   "source": [
    "def calculate(n,**kwargs):\n",
    "    add = n + kwargs['add']\n",
    "    multiply = n * kwargs['multiply']\n",
    "    print(f'Addition: {add}')\n",
    "    print(f'Multiplication: {multiply}')\n",
    "calculate(3, add=1, multiply=3)"
   ]
  },
  {
   "cell_type": "code",
   "execution_count": 37,
   "id": "ongoing-mentor",
   "metadata": {},
   "outputs": [
    {
     "name": "stdout",
     "output_type": "stream",
     "text": [
      "BMW\n",
      "GT\n"
     ]
    }
   ],
   "source": [
    "class Car:\n",
    "    def __init__(self,**kw):\n",
    "        self.brand = kw['brand']\n",
    "        self.model = kw['model']\n",
    "my_car = Car(brand='BMW',model='GT')\n",
    "print(my_car.brand)\n",
    "print(my_car.model)"
   ]
  },
  {
   "cell_type": "markdown",
   "id": "psychological-terminal",
   "metadata": {},
   "source": [
    "**Important Note:**\n",
    "- For accessing values from dictionary, we use say \n",
    "```car['brand']```  \n",
    "- Reduced to ```car.get('brand')```"
   ]
  },
  {
   "cell_type": "markdown",
   "id": "color-reputation",
   "metadata": {},
   "source": [
    "---"
   ]
  },
  {
   "cell_type": "code",
   "execution_count": null,
   "id": "collectible-naples",
   "metadata": {},
   "outputs": [],
   "source": []
  }
 ],
 "metadata": {
  "kernelspec": {
   "display_name": "Python 3",
   "language": "python",
   "name": "python3"
  },
  "language_info": {
   "codemirror_mode": {
    "name": "ipython",
    "version": 3
   },
   "file_extension": ".py",
   "mimetype": "text/x-python",
   "name": "python",
   "nbconvert_exporter": "python",
   "pygments_lexer": "ipython3",
   "version": "3.9.1"
  }
 },
 "nbformat": 4,
 "nbformat_minor": 5
}
